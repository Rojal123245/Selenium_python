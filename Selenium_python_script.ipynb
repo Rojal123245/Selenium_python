{
 "cells": [
  {
   "cell_type": "code",
   "execution_count": null,
   "id": "954af402-84c3-4245-88c0-3f4a85bdbce0",
   "metadata": {},
   "outputs": [],
   "source": [
    "#importing the needed libraries\n",
    "import pandas as pd\n",
    "from selenium import webdriver\n",
    "from selenium.webdriver.common.by import By\n",
    "from selenium.webdriver.common.keys import Keys\n",
    "import time\n",
    "import openpyxl"
   ]
  },
  {
   "cell_type": "code",
   "execution_count": null,
   "id": "e2bc383c-5fe6-49a4-9e1c-2193a00f5ba7",
   "metadata": {},
   "outputs": [],
   "source": [
    "# Load the Excel file\n",
    "file_path = 'data.xlsx'\n",
    "df = pd.read_excel(file_path)"
   ]
  },
  {
   "cell_type": "code",
   "execution_count": null,
   "id": "1e4fa8aa-67af-4cda-b789-f020182ea18e",
   "metadata": {},
   "outputs": [],
   "source": [
    "# Initialize the Selenium WebDriver (Ensure you have the correct WebDriver for your browser)\n",
    "driver = webdriver.Chrome()  # You can use other drivers like FirefoxDriver or EdgeDriver"
   ]
  },
  {
   "cell_type": "code",
   "execution_count": null,
   "id": "3080c364-4988-4435-903b-2f6de91728af",
   "metadata": {},
   "outputs": [],
   "source": [
    "# Function to get data from the website using a PIN number\n",
    "def get_data_from_website(pin_number):\n",
    "    driver.get(\"url\")\n",
    "\n",
    "    # Find the PIN input field and enter the PIN number\n",
    "    pin_input = driver.find_element(By.NAME, \"property_key\")\n",
    "    pin_input.clear()\n",
    "    pin_input.send_keys(pin_number)\n",
    "    pin_input.send_keys(Keys.RETURN)\n",
    "\n",
    "    # Allow time for the page to load\n",
    "    time.sleep(5)\n",
    "\n",
    "    # Extract the required fields\n",
    "    data = {}\n",
    "    try:\n",
    "        data['Tax Year'] = driver.find_element(By.XPATH, \"//div[contains(text(), 'Tax Year')]/following-sibling::div/div\").text\n",
    "        data['Net Taxable Value'] = driver.find_element(By.XPATH, \"//div[contains(text(), 'Net Taxable Value')]/following-sibling::div\").text\n",
    "        data['Tax status'] = driver.find_element(By.XPATH, \"//div[contains(text(), 'Tax Status')]/following-sibling::div\").text\n",
    "        data['Comments'] = driver.find_element(By.XPATH, \"//div[contains(text(), 'Owner Name & Address')]/following-sibling::div\").text\n",
    "        data['TAXCODE'] = driver.find_element(By.XPATH, \"//div[contains(text(), 'Tax Code')]/following-sibling::div\").text\n",
    "        data['name of owner'] = driver.find_element(By.XPATH, \"//div[contains(text(), 'Owner Name & Address')]/following-sibling::div\").text\n",
    "    except Exception as e:\n",
    "        print(f\"Error while extracting data for PIN {pin_number}: {e}\")\n",
    "    return data"
   ]
  },
  {
   "cell_type": "code",
   "execution_count": null,
   "id": "79183516-a7e0-446f-b097-069ef9218c0f",
   "metadata": {},
   "outputs": [],
   "source": [
    "# Loop through each PIN in the Excel sheet and update the data\n",
    "for index, row in df.iterrows():\n",
    "    pin_number = row['PIN']\n",
    "    if pd.isna(pin_number) or pin_number == '':\n",
    "        print(\"Empty PIN encountered, stopping the loop.\")\n",
    "        break\n",
    "    if pd.notna(row['Tax Year']):\n",
    "        print(f\"Data already present for PIN {pin_number}, skipping.\")\n",
    "        continue\n",
    "    data = get_data_from_website(pin_number)\n",
    "    print(data)\n",
    "    for key, value in data.items():\n",
    "        if key in df.columns:\n",
    "            df.at[index, key] = value\n",
    "            print(index)\n",
    "        else:\n",
    "            print(\"Not found\")\n"
   ]
  },
  {
   "cell_type": "code",
   "execution_count": null,
   "id": "913733c0-5bb0-4bbf-a932-b2eb5727a908",
   "metadata": {},
   "outputs": [],
   "source": [
    "# Save the updated Excel file\n",
    "df.to_excel(file_path, index=False)\n",
    "\n",
    "# Close the WebDriver\n",
    "driver.quit()"
   ]
  }
 ],
 "metadata": {
  "kernelspec": {
   "display_name": "Python 3.9 (college)",
   "language": "python",
   "name": "college"
  },
  "language_info": {
   "codemirror_mode": {
    "name": "ipython",
    "version": 3
   },
   "file_extension": ".py",
   "mimetype": "text/x-python",
   "name": "python",
   "nbconvert_exporter": "python",
   "pygments_lexer": "ipython3",
   "version": "3.9.18"
  }
 },
 "nbformat": 4,
 "nbformat_minor": 5
}
